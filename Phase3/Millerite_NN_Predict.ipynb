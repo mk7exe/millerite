{
  "nbformat": 4,
  "nbformat_minor": 0,
  "metadata": {
    "colab": {
      "name": "Millerite_NN_Predict.ipynb",
      "provenance": [],
      "authorship_tag": "ABX9TyMzAeNHu5CIf3+DD/HQrkUK",
      "include_colab_link": true
    },
    "kernelspec": {
      "name": "python3",
      "display_name": "Python 3"
    }
  },
  "cells": [
    {
      "cell_type": "markdown",
      "metadata": {
        "id": "view-in-github",
        "colab_type": "text"
      },
      "source": [
        "<a href=\"https://colab.research.google.com/github/mk7exe/millerite/blob/master/Phase3/Millerite_NN_Predict.ipynb\" target=\"_parent\"><img src=\"https://colab.research.google.com/assets/colab-badge.svg\" alt=\"Open In Colab\"/></a>"
      ]
    },
    {
      "cell_type": "code",
      "metadata": {
        "id": "aZ8NPdz13ggU",
        "colab_type": "code",
        "colab": {}
      },
      "source": [
        "import numpy as np\n",
        "import h5py\n",
        "%tensorflow_version 2.x\n",
        "import tensorflow as tf\n",
        "from tensorflow import keras\n",
        "from tensorboard.plugins.hparams import api as hp\n",
        "import datetime\n",
        "\n",
        "import matplotlib.pyplot as plt\n",
        "%matplotlib inline\n"
      ],
      "execution_count": 0,
      "outputs": []
    },
    {
      "cell_type": "markdown",
      "metadata": {
        "id": "zEcU9PxN3wpU",
        "colab_type": "text"
      },
      "source": [
        "Loading the dataset to evaluate from Github."
      ]
    },
    {
      "cell_type": "code",
      "metadata": {
        "id": "5AZW1b0-3r6S",
        "colab_type": "code",
        "colab": {
          "base_uri": "https://localhost:8080/",
          "height": 53
        },
        "outputId": "043e5d18-215b-40ad-93ef-91610b18b599"
      },
      "source": [
        "! wget -nv https://github.com/mk7exe/millerite/raw/master/Phase2/datasets/surf_dataset.h5\n",
        "root_path = '.'\n",
        "dataset = h5py.File(root_path + '/surf_dataset.h5', \"r\")\n",
        "x_orig = np.array(dataset[\"test_set_x\"][:]).T \n",
        "y_orig = np.array(dataset[\"test_set_y\"][:]) "
      ],
      "execution_count": 27,
      "outputs": [
        {
          "output_type": "stream",
          "text": [
            "2020-04-05 20:51:37 URL:https://raw.githubusercontent.com/mk7exe/millerite/master/Phase2/datasets/surf_dataset.h5 [6464/6464] -> \"surf_dataset.h5.2\" [1]\n"
          ],
          "name": "stdout"
        }
      ]
    },
    {
      "cell_type": "markdown",
      "metadata": {
        "id": "HkEvbRaE4I4c",
        "colab_type": "text"
      },
      "source": [
        "Mounting google drive to load trained model."
      ]
    },
    {
      "cell_type": "code",
      "metadata": {
        "id": "fEgT6dNH4A4t",
        "colab_type": "code",
        "colab": {
          "base_uri": "https://localhost:8080/",
          "height": 120
        },
        "outputId": "3f0256b0-c6c3-4d20-c1cd-90891f20501e"
      },
      "source": [
        "from google.colab import drive\n",
        "drive.mount('/content/gdrive')"
      ],
      "execution_count": 4,
      "outputs": [
        {
          "output_type": "stream",
          "text": [
            "Go to this URL in a browser: https://accounts.google.com/o/oauth2/auth?client_id=947318989803-6bn6qk8qdgf4n4g3pfee6491hc0brc4i.apps.googleusercontent.com&redirect_uri=urn%3aietf%3awg%3aoauth%3a2.0%3aoob&response_type=code&scope=email%20https%3a%2f%2fwww.googleapis.com%2fauth%2fdocs.test%20https%3a%2f%2fwww.googleapis.com%2fauth%2fdrive%20https%3a%2f%2fwww.googleapis.com%2fauth%2fdrive.photos.readonly%20https%3a%2f%2fwww.googleapis.com%2fauth%2fpeopleapi.readonly\n",
            "\n",
            "Enter your authorization code:\n",
            "··········\n",
            "Mounted at /content/gdrive\n"
          ],
          "name": "stdout"
        }
      ]
    },
    {
      "cell_type": "markdown",
      "metadata": {
        "id": "KH5CFpvl7Zjy",
        "colab_type": "text"
      },
      "source": [
        "Defining the model to load (n case there are moultiple models saved in Google Drive)"
      ]
    },
    {
      "cell_type": "code",
      "metadata": {
        "id": "O4mdXmkG7eXG",
        "colab_type": "code",
        "colab": {}
      },
      "source": [
        "drive_path = 'gdrive/My Drive/Colab Notebooks/models'\n",
        "model_date = '20200405-013816'\n",
        "model_path = drive_path + '/' + model_name"
      ],
      "execution_count": 0,
      "outputs": []
    },
    {
      "cell_type": "markdown",
      "metadata": {
        "id": "t7SkpD5X7tKc",
        "colab_type": "text"
      },
      "source": [
        "Getting feature scalling parameters from Google Drive"
      ]
    },
    {
      "cell_type": "code",
      "metadata": {
        "id": "B65IYvto8Bvj",
        "colab_type": "code",
        "colab": {
          "base_uri": "https://localhost:8080/",
          "height": 369
        },
        "outputId": "9245694b-d621-465b-93b5-92ad54319b14"
      },
      "source": [
        "xmean_path = model_path + '/xmean.txt'\n",
        "xmean = np.genfromtxt(xmean_path, delimiter=',')\n",
        "\n",
        "xrange_path = model_path + '/xrange.txt'\n",
        "xrange = np.genfromtxt(xrange_path, delimiter=',')\n",
        "\n",
        "y_path = model_path + '/ymean_yrange.txt'\n",
        "with open(y_path) as f:\n",
        "  lines=f.readlines()\n",
        "  temp = line.split()\n",
        "  ymean = temp[0]\n",
        "  yrange = temp[1]"
      ],
      "execution_count": 37,
      "outputs": [
        {
          "output_type": "error",
          "ename": "OSError",
          "evalue": "ignored",
          "traceback": [
            "\u001b[0;31m---------------------------------------------------------------------------\u001b[0m",
            "\u001b[0;31mOSError\u001b[0m                                   Traceback (most recent call last)",
            "\u001b[0;32m<ipython-input-37-59b77fa62509>\u001b[0m in \u001b[0;36m<module>\u001b[0;34m()\u001b[0m\n\u001b[1;32m      1\u001b[0m \u001b[0mxmean_path\u001b[0m \u001b[0;34m=\u001b[0m \u001b[0mmodel_path\u001b[0m \u001b[0;34m+\u001b[0m \u001b[0;34m'/xmean.txt'\u001b[0m\u001b[0;34m\u001b[0m\u001b[0;34m\u001b[0m\u001b[0m\n\u001b[0;32m----> 2\u001b[0;31m \u001b[0mxmean\u001b[0m \u001b[0;34m=\u001b[0m \u001b[0mnp\u001b[0m\u001b[0;34m.\u001b[0m\u001b[0mgenfromtxt\u001b[0m\u001b[0;34m(\u001b[0m\u001b[0mxmean_path\u001b[0m\u001b[0;34m,\u001b[0m \u001b[0mdelimiter\u001b[0m\u001b[0;34m=\u001b[0m\u001b[0;34m','\u001b[0m\u001b[0;34m)\u001b[0m\u001b[0;34m\u001b[0m\u001b[0;34m\u001b[0m\u001b[0m\n\u001b[0m\u001b[1;32m      3\u001b[0m \u001b[0;34m\u001b[0m\u001b[0m\n\u001b[1;32m      4\u001b[0m \u001b[0mxrange_path\u001b[0m \u001b[0;34m=\u001b[0m \u001b[0mmodel_path\u001b[0m \u001b[0;34m+\u001b[0m \u001b[0;34m'/xrange.txt'\u001b[0m\u001b[0;34m\u001b[0m\u001b[0;34m\u001b[0m\u001b[0m\n\u001b[1;32m      5\u001b[0m \u001b[0mxrange\u001b[0m \u001b[0;34m=\u001b[0m \u001b[0mnp\u001b[0m\u001b[0;34m.\u001b[0m\u001b[0mgenfromtxt\u001b[0m\u001b[0;34m(\u001b[0m\u001b[0mxrange_path\u001b[0m\u001b[0;34m,\u001b[0m \u001b[0mdelimiter\u001b[0m\u001b[0;34m=\u001b[0m\u001b[0;34m','\u001b[0m\u001b[0;34m)\u001b[0m\u001b[0;34m\u001b[0m\u001b[0;34m\u001b[0m\u001b[0m\n",
            "\u001b[0;32m/usr/local/lib/python3.6/dist-packages/numpy/lib/npyio.py\u001b[0m in \u001b[0;36mgenfromtxt\u001b[0;34m(fname, dtype, comments, delimiter, skip_header, skip_footer, converters, missing_values, filling_values, usecols, names, excludelist, deletechars, replace_space, autostrip, case_sensitive, defaultfmt, unpack, usemask, loose, invalid_raise, max_rows, encoding)\u001b[0m\n\u001b[1;32m   1770\u001b[0m             \u001b[0mfname\u001b[0m \u001b[0;34m=\u001b[0m \u001b[0mos_fspath\u001b[0m\u001b[0;34m(\u001b[0m\u001b[0mfname\u001b[0m\u001b[0;34m)\u001b[0m\u001b[0;34m\u001b[0m\u001b[0;34m\u001b[0m\u001b[0m\n\u001b[1;32m   1771\u001b[0m         \u001b[0;32mif\u001b[0m \u001b[0misinstance\u001b[0m\u001b[0;34m(\u001b[0m\u001b[0mfname\u001b[0m\u001b[0;34m,\u001b[0m \u001b[0mbasestring\u001b[0m\u001b[0;34m)\u001b[0m\u001b[0;34m:\u001b[0m\u001b[0;34m\u001b[0m\u001b[0;34m\u001b[0m\u001b[0m\n\u001b[0;32m-> 1772\u001b[0;31m             \u001b[0mfid\u001b[0m \u001b[0;34m=\u001b[0m \u001b[0mnp\u001b[0m\u001b[0;34m.\u001b[0m\u001b[0mlib\u001b[0m\u001b[0;34m.\u001b[0m\u001b[0m_datasource\u001b[0m\u001b[0;34m.\u001b[0m\u001b[0mopen\u001b[0m\u001b[0;34m(\u001b[0m\u001b[0mfname\u001b[0m\u001b[0;34m,\u001b[0m \u001b[0;34m'rt'\u001b[0m\u001b[0;34m,\u001b[0m \u001b[0mencoding\u001b[0m\u001b[0;34m=\u001b[0m\u001b[0mencoding\u001b[0m\u001b[0;34m)\u001b[0m\u001b[0;34m\u001b[0m\u001b[0;34m\u001b[0m\u001b[0m\n\u001b[0m\u001b[1;32m   1773\u001b[0m             \u001b[0mfid_ctx\u001b[0m \u001b[0;34m=\u001b[0m \u001b[0mcontextlib\u001b[0m\u001b[0;34m.\u001b[0m\u001b[0mclosing\u001b[0m\u001b[0;34m(\u001b[0m\u001b[0mfid\u001b[0m\u001b[0;34m)\u001b[0m\u001b[0;34m\u001b[0m\u001b[0;34m\u001b[0m\u001b[0m\n\u001b[1;32m   1774\u001b[0m         \u001b[0;32melse\u001b[0m\u001b[0;34m:\u001b[0m\u001b[0;34m\u001b[0m\u001b[0;34m\u001b[0m\u001b[0m\n",
            "\u001b[0;32m/usr/local/lib/python3.6/dist-packages/numpy/lib/_datasource.py\u001b[0m in \u001b[0;36mopen\u001b[0;34m(path, mode, destpath, encoding, newline)\u001b[0m\n\u001b[1;32m    267\u001b[0m \u001b[0;34m\u001b[0m\u001b[0m\n\u001b[1;32m    268\u001b[0m     \u001b[0mds\u001b[0m \u001b[0;34m=\u001b[0m \u001b[0mDataSource\u001b[0m\u001b[0;34m(\u001b[0m\u001b[0mdestpath\u001b[0m\u001b[0;34m)\u001b[0m\u001b[0;34m\u001b[0m\u001b[0;34m\u001b[0m\u001b[0m\n\u001b[0;32m--> 269\u001b[0;31m     \u001b[0;32mreturn\u001b[0m \u001b[0mds\u001b[0m\u001b[0;34m.\u001b[0m\u001b[0mopen\u001b[0m\u001b[0;34m(\u001b[0m\u001b[0mpath\u001b[0m\u001b[0;34m,\u001b[0m \u001b[0mmode\u001b[0m\u001b[0;34m,\u001b[0m \u001b[0mencoding\u001b[0m\u001b[0;34m=\u001b[0m\u001b[0mencoding\u001b[0m\u001b[0;34m,\u001b[0m \u001b[0mnewline\u001b[0m\u001b[0;34m=\u001b[0m\u001b[0mnewline\u001b[0m\u001b[0;34m)\u001b[0m\u001b[0;34m\u001b[0m\u001b[0;34m\u001b[0m\u001b[0m\n\u001b[0m\u001b[1;32m    270\u001b[0m \u001b[0;34m\u001b[0m\u001b[0m\n\u001b[1;32m    271\u001b[0m \u001b[0;34m\u001b[0m\u001b[0m\n",
            "\u001b[0;32m/usr/local/lib/python3.6/dist-packages/numpy/lib/_datasource.py\u001b[0m in \u001b[0;36mopen\u001b[0;34m(self, path, mode, encoding, newline)\u001b[0m\n\u001b[1;32m    621\u001b[0m                                       encoding=encoding, newline=newline)\n\u001b[1;32m    622\u001b[0m         \u001b[0;32melse\u001b[0m\u001b[0;34m:\u001b[0m\u001b[0;34m\u001b[0m\u001b[0;34m\u001b[0m\u001b[0m\n\u001b[0;32m--> 623\u001b[0;31m             \u001b[0;32mraise\u001b[0m \u001b[0mIOError\u001b[0m\u001b[0;34m(\u001b[0m\u001b[0;34m\"%s not found.\"\u001b[0m \u001b[0;34m%\u001b[0m \u001b[0mpath\u001b[0m\u001b[0;34m)\u001b[0m\u001b[0;34m\u001b[0m\u001b[0;34m\u001b[0m\u001b[0m\n\u001b[0m\u001b[1;32m    624\u001b[0m \u001b[0;34m\u001b[0m\u001b[0m\n\u001b[1;32m    625\u001b[0m \u001b[0;34m\u001b[0m\u001b[0m\n",
            "\u001b[0;31mOSError\u001b[0m: gdrive/My Drive/Colab Notebooks/models/20200405-013816/model/xmean.txt not found."
          ]
        }
      ]
    },
    {
      "cell_type": "markdown",
      "metadata": {
        "id": "OztMi75NGDsO",
        "colab_type": "text"
      },
      "source": [
        "Applying the feature scaling to x"
      ]
    },
    {
      "cell_type": "code",
      "metadata": {
        "id": "SYv2kZDYGb13",
        "colab_type": "code",
        "colab": {}
      },
      "source": [
        "x = np.divide(np.subtract(x_orig, xmean), xrange)"
      ],
      "execution_count": 0,
      "outputs": []
    },
    {
      "cell_type": "markdown",
      "metadata": {
        "id": "z9yqZWUR6kiC",
        "colab_type": "text"
      },
      "source": [
        "Defining the model"
      ]
    },
    {
      "cell_type": "code",
      "metadata": {
        "id": "urm2M7g86aQp",
        "colab_type": "code",
        "colab": {}
      },
      "source": [
        "hparams = {\n",
        "    'num_layers': 3,\n",
        "    'num_units': 50,\n",
        "    'dropout': 0.1,\n",
        "    'alpha': 0.0001,\n",
        "    'lambdaL2': 0.01,\n",
        "    'last_activation': 'tanh',\n",
        "    'activation': 'relu'\n",
        "    }\n",
        "\n",
        "def train_model(hparams):\n",
        "  num_layers = hparams['num_layers']\n",
        "  num_units = hparams['num_units']\n",
        "  activation = hparams['activation']\n",
        "  lambdaL2 = hparams['lambdaL2']\n",
        "  dropout = hparams['dropout']\n",
        "  learning_rate = hparams['alpha']  \n",
        "  out_activation = hparams['last_activation']\n",
        "\n",
        "  model = keras.Sequential()\n",
        "  model.add(keras.layers.Flatten(input_shape=x.shape[1:]))\n",
        "\n",
        "  for i in range(num_layers):\n",
        "    model.add(keras.layers.Dense(num_units, kernel_regularizer=\n",
        "                               keras.regularizers.l2(lambdaL2), use_bias=False))\n",
        "    model.add(keras.layers.BatchNormalization())\n",
        "    model.add(keras.layers.Activation(activation))\n",
        "    model.add(keras.layers.Dropout(dropout))\n",
        "\n",
        "  model.add(keras.layers.Dense(1, activation=out_activation))\n",
        "\n",
        "  adam = keras.optimizers.Adam(learning_rate=learning_rate,\n",
        "                               beta_1=0.9, beta_2=0.999) \n",
        "  model.compile(optimizer=adam, \n",
        "                loss=keras.losses.mean_squared_error, \n",
        "                metrics=[tf.keras.metrics.RootMeanSquaredError()])\n",
        "  return model"
      ],
      "execution_count": 0,
      "outputs": []
    },
    {
      "cell_type": "markdown",
      "metadata": {
        "id": "S72yUKe1HeXS",
        "colab_type": "text"
      },
      "source": [
        "Loading the model"
      ]
    },
    {
      "cell_type": "code",
      "metadata": {
        "id": "DJgcgesx6F9h",
        "colab_type": "code",
        "colab": {
          "base_uri": "https://localhost:8080/",
          "height": 33
        },
        "outputId": "256fe45c-4e92-445b-cf09-ef9c51e58d1e"
      },
      "source": [
        "model = train_model(hparams)\n",
        "model.load_weights(model_path)"
      ],
      "execution_count": 44,
      "outputs": [
        {
          "output_type": "execute_result",
          "data": {
            "text/plain": [
              "<tensorflow.python.training.tracking.util.CheckpointLoadStatus at 0x7f2a77132828>"
            ]
          },
          "metadata": {
            "tags": []
          },
          "execution_count": 44
        }
      ]
    },
    {
      "cell_type": "code",
      "metadata": {
        "id": "uIf2uMzd5_mw",
        "colab_type": "code",
        "colab": {
          "base_uri": "https://localhost:8080/",
          "height": 150
        },
        "outputId": "b2139153-3c68-40e0-fb13-f5736abd4c9f"
      },
      "source": [
        "y_pred = model.predict(x)\n",
        "yrange = float(yrange)\n",
        "ymean = float(ymean)\n",
        "\n",
        "y_bar = np.multiply(y_pred, yrange) + ymean \n",
        "\n",
        "for i in range(len(y_pred)):\n",
        "  print(y_bar[i], y_orig[i], np.divide(np.abs(y_bar[i])-np.abs(y_orig[i]), \n",
        "        y_orig[i]))"
      ],
      "execution_count": 53,
      "outputs": [
        {
          "output_type": "stream",
          "text": [
            "[32.367893] 18.64505600000001 [0.7360041]\n",
            "[42.8839] 47.06206799999973 [-0.08877997]\n",
            "[68.49482] 76.20236799999975 [-0.1011458]\n",
            "[64.38195] 115.18256799999972 [-0.44104433]\n",
            "[86.11937] 74.39596799999981 [0.15758118]\n",
            "[36.121037] 21.360388 [0.6910291]\n",
            "[32.523674] 18.791684000000032 [0.7307483]\n",
            "[35.48716] 37.057783999999856 [-0.04238314]\n"
          ],
          "name": "stdout"
        }
      ]
    },
    {
      "cell_type": "code",
      "metadata": {
        "id": "gXVH_l61KSQX",
        "colab_type": "code",
        "colab": {}
      },
      "source": [
        ""
      ],
      "execution_count": 0,
      "outputs": []
    }
  ]
}