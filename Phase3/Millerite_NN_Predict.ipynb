{
  "nbformat": 4,
  "nbformat_minor": 0,
  "metadata": {
    "colab": {
      "name": "Millerite_NN_Predict.ipynb",
      "provenance": [],
      "authorship_tag": "ABX9TyNi8RzG6o5r6zisi9kqTu7k",
      "include_colab_link": true
    },
    "kernelspec": {
      "name": "python3",
      "display_name": "Python 3"
    }
  },
  "cells": [
    {
      "cell_type": "markdown",
      "metadata": {
        "id": "view-in-github",
        "colab_type": "text"
      },
      "source": [
        "<a href=\"https://colab.research.google.com/github/mk7exe/millerite/blob/master/Phase3/Millerite_NN_Predict.ipynb\" target=\"_parent\"><img src=\"https://colab.research.google.com/assets/colab-badge.svg\" alt=\"Open In Colab\"/></a>"
      ]
    },
    {
      "cell_type": "code",
      "metadata": {
        "id": "aZ8NPdz13ggU",
        "colab_type": "code",
        "colab": {}
      },
      "source": [
        "import numpy as np\n",
        "import h5py\n",
        "%tensorflow_version 2.x\n",
        "import tensorflow as tf\n",
        "from tensorflow import keras\n",
        "from tensorboard.plugins.hparams import api as hp\n",
        "import datetime\n",
        "\n",
        "import matplotlib.pyplot as plt\n",
        "%matplotlib inline\n"
      ],
      "execution_count": 0,
      "outputs": []
    },
    {
      "cell_type": "markdown",
      "metadata": {
        "id": "zEcU9PxN3wpU",
        "colab_type": "text"
      },
      "source": [
        "Loading the dataset to evaluate from Github."
      ]
    },
    {
      "cell_type": "code",
      "metadata": {
        "id": "5AZW1b0-3r6S",
        "colab_type": "code",
        "outputId": "778c389b-0c3c-44d8-dd16-abb95d81538c",
        "colab": {
          "base_uri": "https://localhost:8080/",
          "height": 33
        }
      },
      "source": [
        "! wget -nv https://github.com/mk7exe/millerite/raw/master/Phase2/datasets/surf_dataset.h5\n",
        "root_path = '.'\n",
        "dataset = h5py.File(root_path + '/surf_dataset.h5', \"r\")\n",
        "x_orig = np.array(dataset[\"test_set_x\"][:]).T \n",
        "y_orig = np.array(dataset[\"test_set_y\"][:]) "
      ],
      "execution_count": 13,
      "outputs": [
        {
          "output_type": "stream",
          "text": [
            "2020-04-07 22:14:08 URL:https://raw.githubusercontent.com/mk7exe/millerite/master/Phase2/datasets/surf_dataset.h5 [6464/6464] -> \"surf_dataset.h5.2\" [1]\n"
          ],
          "name": "stdout"
        }
      ]
    },
    {
      "cell_type": "code",
      "metadata": {
        "id": "VcHXBLpJRitF",
        "colab_type": "code",
        "outputId": "031a72ae-42c1-4bd9-8f10-9087da43cbdb",
        "colab": {
          "base_uri": "https://localhost:8080/",
          "height": 297
        }
      },
      "source": [
        "xsum = np.sum(x_orig, axis=1, keepdims=True)\n",
        "\n",
        "y_orig = y_orig.reshape((x_orig.shape[0], 1))\n",
        "y_temp = np.divide(y_orig, xsum)\n",
        "\n",
        "print(x_orig.shape, y_orig.shape, xsum.shape, y_temp.shape)\n",
        "\n",
        "plt.figure()\n",
        "plt.subplot(1,2,1)\n",
        "# the histogram of the data\n",
        "n, bins, patches = plt.hist(y_orig, 50, density=True)\n",
        "plt.xlabel('original y')\n",
        "plt.ylabel('Probability')\n",
        "plt.subplot(1,2,2)\n",
        "# the histogram of the data\n",
        "n, bins, patches = plt.hist(y_temp, 50, density=True)\n",
        "plt.xlabel('scaled y')\n",
        "plt.ylabel('Probability')\n",
        "plt.show()\n",
        "\n",
        "y_orig = y_temp"
      ],
      "execution_count": 14,
      "outputs": [
        {
          "output_type": "stream",
          "text": [
            "(8, 68) (8, 1) (8, 1) (8, 1)\n"
          ],
          "name": "stdout"
        },
        {
          "output_type": "display_data",
          "data": {
            "image/png": "[encoded data removed]",
            "text/plain": [
              "<Figure size 432x288 with 2 Axes>"
            ]
          },
          "metadata": {
            "tags": []
          }
        }
      ]
    },
    {
      "cell_type": "markdown",
      "metadata": {
        "id": "HkEvbRaE4I4c",
        "colab_type": "text"
      },
      "source": [
        "Mounting google drive to load trained model."
      ]
    },
    {
      "cell_type": "code",
      "metadata": {
        "id": "fEgT6dNH4A4t",
        "colab_type": "code",
        "outputId": "5289f4a6-7dda-4e7a-f0da-fdb63142e9ac",
        "colab": {
          "base_uri": "https://localhost:8080/",
          "height": 33
        }
      },
      "source": [
        "from google.colab import drive\n",
        "drive.mount('/content/gdrive')"
      ],
      "execution_count": 15,
      "outputs": [
        {
          "output_type": "stream",
          "text": [
            "Drive already mounted at /content/gdrive; to attempt to forcibly remount, call drive.mount(\"/content/gdrive\", force_remount=True).\n"
          ],
          "name": "stdout"
        }
      ]
    },
    {
      "cell_type": "markdown",
      "metadata": {
        "id": "KH5CFpvl7Zjy",
        "colab_type": "text"
      },
      "source": [
        "Defining the model to load (in case there are multiple models saved in Google Drive)"
      ]
    },
    {
      "cell_type": "code",
      "metadata": {
        "id": "O4mdXmkG7eXG",
        "colab_type": "code",
        "colab": {}
      },
      "source": [
        "drive_path = 'gdrive/My Drive/Colab Notebooks/models'\n",
        "model_date = '20200407-221212'\n",
        "model_path = drive_path + '/' + model_date"
      ],
      "execution_count": 0,
      "outputs": []
    },
    {
      "cell_type": "markdown",
      "metadata": {
        "id": "t7SkpD5X7tKc",
        "colab_type": "text"
      },
      "source": [
        "Getting feature scalling parameters from Google Drive"
      ]
    },
    {
      "cell_type": "code",
      "metadata": {
        "id": "B65IYvto8Bvj",
        "colab_type": "code",
        "colab": {}
      },
      "source": [
        "xmean_path = model_path + '/xmean.txt'\n",
        "xmean = np.genfromtxt(xmean_path, delimiter=',')\n",
        "\n",
        "xrange_path = model_path + '/xrange.txt'\n",
        "xrange = np.genfromtxt(xrange_path, delimiter=',')\n",
        "\n",
        "y_path = model_path + '/ymean_yrange.txt'\n",
        "with open(y_path) as f:\n",
        "  lines=f.readlines()\n",
        "  temp = lines[1].split()\n",
        "  ymean = temp[0]\n",
        "  yrange = temp[1]"
      ],
      "execution_count": 0,
      "outputs": []
    },
    {
      "cell_type": "markdown",
      "metadata": {
        "id": "OztMi75NGDsO",
        "colab_type": "text"
      },
      "source": [
        "Applying the feature scaling to x"
      ]
    },
    {
      "cell_type": "code",
      "metadata": {
        "id": "SYv2kZDYGb13",
        "colab_type": "code",
        "colab": {}
      },
      "source": [
        "x = np.divide(np.subtract(x_orig, xmean), xrange)"
      ],
      "execution_count": 0,
      "outputs": []
    },
    {
      "cell_type": "markdown",
      "metadata": {
        "id": "z9yqZWUR6kiC",
        "colab_type": "text"
      },
      "source": [
        "Defining the model"
      ]
    },
    {
      "cell_type": "code",
      "metadata": {
        "id": "urm2M7g86aQp",
        "colab_type": "code",
        "colab": {}
      },
      "source": [
        "hparams = {\n",
        "    'num_layers': 3,\n",
        "    'num_units': 60,\n",
        "    'dropout': 0.1,\n",
        "    'alpha': 0.0001,\n",
        "    'lambdaL2': 0.01,\n",
        "    'last_activation': 'linear',\n",
        "    'activation': 'relu'\n",
        "    }\n",
        "\n",
        "def train_model(hparams):\n",
        "  num_layers = hparams['num_layers']\n",
        "  num_units = hparams['num_units']\n",
        "  activation = hparams['activation']\n",
        "  lambdaL2 = hparams['lambdaL2']\n",
        "  dropout = hparams['dropout']\n",
        "  learning_rate = hparams['alpha']  \n",
        "  out_activation = hparams['last_activation']\n",
        "\n",
        "  model = keras.Sequential()\n",
        "  model.add(keras.layers.Flatten(input_shape=x.shape[1:]))\n",
        "\n",
        "  for i in range(num_layers):\n",
        "    model.add(keras.layers.Dense(num_units, kernel_regularizer=\n",
        "                               keras.regularizers.l2(lambdaL2), use_bias=False))\n",
        "    model.add(keras.layers.BatchNormalization())\n",
        "    model.add(keras.layers.Activation(activation))\n",
        "    model.add(keras.layers.Dropout(dropout))\n",
        "\n",
        "  model.add(keras.layers.Dense(1, activation=out_activation))\n",
        "\n",
        "  adam = keras.optimizers.Adam(learning_rate=learning_rate,\n",
        "                               beta_1=0.9, beta_2=0.999) \n",
        "  model.compile(optimizer=adam, \n",
        "                loss=keras.losses.mean_squared_error, \n",
        "                metrics=[tf.keras.metrics.RootMeanSquaredError()])\n",
        "  return model"
      ],
      "execution_count": 0,
      "outputs": []
    },
    {
      "cell_type": "markdown",
      "metadata": {
        "id": "S72yUKe1HeXS",
        "colab_type": "text"
      },
      "source": [
        "Loading the model"
      ]
    },
    {
      "cell_type": "code",
      "metadata": {
        "id": "DJgcgesx6F9h",
        "colab_type": "code",
        "outputId": "1f98c94a-ef2c-4f2f-fe94-2ab867d785ec",
        "colab": {
          "base_uri": "https://localhost:8080/",
          "height": 33
        }
      },
      "source": [
        "model = train_model(hparams)\n",
        "model_name = model_path + '/model'\n",
        "model.load_weights(model_name)"
      ],
      "execution_count": 20,
      "outputs": [
        {
          "output_type": "execute_result",
          "data": {
            "text/plain": [
              "<tensorflow.python.training.tracking.util.CheckpointLoadStatus at 0x7f531cdcc128>"
            ]
          },
          "metadata": {
            "tags": []
          },
          "execution_count": 20
        }
      ]
    },
    {
      "cell_type": "code",
      "metadata": {
        "id": "uIf2uMzd5_mw",
        "colab_type": "code",
        "outputId": "b9de9644-621f-471e-ba6b-abafacc74fd6",
        "colab": {
          "base_uri": "https://localhost:8080/",
          "height": 167
        }
      },
      "source": [
        "y_pred = model.predict(x)\n",
        "# yrange = float(yrange)\n",
        "# ymean = float(ymean)\n",
        "\n",
        "# y_bar = np.multiply(y_pred, yrange) + ymean \n",
        "#y_bar = np.multiply(y_bar, xsum)\n",
        "\n",
        "RMSE = np.sqrt(np.mean(np.square(np.subtract(y_bar, y_orig))))\n",
        "\n",
        "for i in range(len(y_pred)):\n",
        "  print(y_bar[i], y_orig[i], np.divide(np.abs(y_bar[i])-np.abs(y_orig[i]), \n",
        "        y_orig[i]))\n",
        "\n",
        "print(\"RMSE= \", RMSE)"
      ],
      "execution_count": 21,
      "outputs": [
        {
          "output_type": "stream",
          "text": [
            "[0.9360823] [0.77687733] [0.20492935]\n",
            "[0.9117574] [0.56026271] [0.62737478]\n",
            "[0.9973136] [0.90717105] [0.09936668]\n",
            "[0.9378741] [1.19981842] [-0.21831998]\n",
            "[0.7451179] [0.774958] [-0.03850544]\n",
            "[1.0459127] [1.18668822] [-0.11862887]\n",
            "[1.0402862] [0.39149342] [1.65722523]\n",
            "[0.9030404] [0.61762973] [0.46210644]\n",
            "RMSE=  0.30592783823057657\n"
          ],
          "name": "stdout"
        }
      ]
    },
    {
      "cell_type": "code",
      "metadata": {
        "id": "gXVH_l61KSQX",
        "colab_type": "code",
        "colab": {}
      },
      "source": [
        ""
      ],
      "execution_count": 0,
      "outputs": []
    }
  ]
}